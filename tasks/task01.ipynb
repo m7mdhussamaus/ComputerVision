{
 "cells": [
  {
   "cell_type": "code",
   "execution_count": 4,
   "id": "15567f9c-b879-4759-b015-801390946316",
   "metadata": {},
   "outputs": [],
   "source": [
    "import requests\n",
    "import cv2\n",
    "from matplotlib import pyplot as plt \n",
    "import numpy as np"
   ]
  },
  {
   "cell_type": "markdown",
   "id": "9fd96904-6177-42a7-a28f-f67046e2c459",
   "metadata": {},
   "source": [
    "Find the homography matrix that transforms image1 to image 2 and plot the results"
   ]
  },
  {
   "cell_type": "code",
   "execution_count": null,
   "id": "f6c582e3-3d56-4579-828a-5d2268d87343",
   "metadata": {},
   "outputs": [],
   "source": [
    "image1 = cv2.imread('data/images/checkerboard1.png', cv2.IMREAD_GRAYSCALE)\n",
    "image2 = cv2.imread('data/images/checkerboard2.png', cv2.IMREAD_GRAYSCALE)\n",
    "\n",
    "pts1 = np.array([[100, 100],[100, 200], [200, 100], [200,200], \n",
    "                 [250, 250],[250, 350], [350, 250], [350,350]])\n",
    "pts2 = np.array([(120, 86), (218, 114), (110, 183), (199, 198),\n",
    "                (229, 242), (292, 251), (223, 275), (283, 281)])\n",
    "\n",
    "plt.imshow(image1, cmap='gray')\n",
    "plt.plot(pts1[0,:], pts1[1,:],'r+')\n",
    "plt.show()\n",
    "plt.imshow(image2, cmap='gray')\n",
    "plt.plot(pts2[0,:], pts2[1,:],'r+')"
   ]
  },
  {
   "cell_type": "code",
   "execution_count": null,
   "id": "9467d3eb-12cf-491f-9748-1bf1762103cc",
   "metadata": {},
   "outputs": [],
   "source": []
  }
 ],
 "metadata": {
  "kernelspec": {
   "display_name": "Python 3 (ipykernel)",
   "language": "python",
   "name": "python3"
  },
  "language_info": {
   "codemirror_mode": {
    "name": "ipython",
    "version": 3
   },
   "file_extension": ".py",
   "mimetype": "text/x-python",
   "name": "python",
   "nbconvert_exporter": "python",
   "pygments_lexer": "ipython3",
   "version": "3.10.10"
  }
 },
 "nbformat": 4,
 "nbformat_minor": 5
}
